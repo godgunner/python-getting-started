{
  "nbformat": 4,
  "nbformat_minor": 0,
  "metadata": {
    "colab": {
      "provenance": [],
      "include_colab_link": true
    },
    "kernelspec": {
      "name": "python3",
      "display_name": "Python 3"
    },
    "language_info": {
      "name": "python"
    }
  },
  "cells": [
    {
      "cell_type": "markdown",
      "metadata": {
        "id": "view-in-github",
        "colab_type": "text"
      },
      "source": [
        "<a href=\"https://colab.research.google.com/github/godgunner/python-getting-started/blob/main/PythonDay2JupyterNotebook.ipynb\" target=\"_parent\"><img src=\"https://colab.research.google.com/assets/colab-badge.svg\" alt=\"Open In Colab\"/></a>"
      ]
    },
    {
      "cell_type": "code",
      "execution_count": 1,
      "metadata": {
        "id": "OqhRGMPSB54G"
      },
      "outputs": [],
      "source": [
        "class Student:\n",
        "  def __init__(self,name,age,rollNo):\n",
        "    self.name=name\n",
        "    self.age=age\n",
        "    self.rollNo=rollNo\n",
        "  def display(self):\n",
        "    print(\"name {} age {} rollNo {}\".format(self.name,self.age,self.rollNo))"
      ]
    },
    {
      "cell_type": "code",
      "source": [
        "s1 = Student(\"Raj\",18,1)\n",
        "s1.display()"
      ],
      "metadata": {
        "colab": {
          "base_uri": "https://localhost:8080/"
        },
        "id": "ODZqMZwtCfH7",
        "outputId": "631a7c5a-64dc-49ce-884a-90247789ac4a"
      },
      "execution_count": null,
      "outputs": [
        {
          "output_type": "stream",
          "name": "stdout",
          "text": [
            "name Raj age 18 rollNo 1\n"
          ]
        }
      ]
    },
    {
      "cell_type": "code",
      "source": [
        "class Calculator:\n",
        "    def __init__(self,n1,n2):\n",
        "        self.n1=n1\n",
        "        self.n2=n2\n",
        "        self.res=0\n",
        "    def add(self):\n",
        "        self.res=self.n1+self.n2\n",
        "    def sub(self):\n",
        "        self.res=self.n1-self.n2\n",
        "    def mul(self):\n",
        "        self.res=self.n1*self.n2\n",
        "    def div(self):\n",
        "        self.res=self.n1/self.n2"
      ],
      "metadata": {
        "id": "V6U2Fn4RCjtg"
      },
      "execution_count": null,
      "outputs": []
    },
    {
      "cell_type": "code",
      "source": [
        "c1=Calculator(10,2)\n",
        "c1.add()\n",
        "print(c1.res)\n",
        "c1.sub()\n",
        "print(c1.res)"
      ],
      "metadata": {
        "colab": {
          "base_uri": "https://localhost:8080/"
        },
        "id": "FDxOjAAiEpHm",
        "outputId": "99abd0ea-6855-4dcf-e273-f12fa5e09c20"
      },
      "execution_count": null,
      "outputs": [
        {
          "output_type": "stream",
          "name": "stdout",
          "text": [
            "12\n",
            "8\n"
          ]
        }
      ]
    },
    {
      "cell_type": "code",
      "source": [
        "class DefaultValue:\n",
        "  def __init__(self,n1,n2=0):\n",
        "    self.n1=n1\n",
        "    self.n2=n2\n",
        "  def display(self):\n",
        "    print(\"n1 {} n2 {}\".format(self.n1,self.n2))"
      ],
      "metadata": {
        "id": "vJTs19fXEuIT"
      },
      "execution_count": null,
      "outputs": []
    },
    {
      "cell_type": "code",
      "source": [
        "d1 = DefaultValue(22,33)\n",
        "d1.display()"
      ],
      "metadata": {
        "colab": {
          "base_uri": "https://localhost:8080/"
        },
        "id": "kr_3L1xPGLwv",
        "outputId": "96091788-d84f-4132-e006-2cf035525898"
      },
      "execution_count": null,
      "outputs": [
        {
          "output_type": "stream",
          "name": "stdout",
          "text": [
            "n1 22 n2 33\n"
          ]
        }
      ]
    },
    {
      "cell_type": "code",
      "source": [
        "d2 = DefaultValue(33)\n",
        "d2.display()"
      ],
      "metadata": {
        "colab": {
          "base_uri": "https://localhost:8080/"
        },
        "id": "WYJ6i3RHGQr_",
        "outputId": "c3c9e660-f3d3-4a99-d2e6-135f0746bcaf"
      },
      "execution_count": null,
      "outputs": [
        {
          "output_type": "stream",
          "name": "stdout",
          "text": [
            "n1 33 n2 0\n"
          ]
        }
      ]
    },
    {
      "cell_type": "code",
      "source": [
        "#Inheritance --OOP ---class ---properties/functions from another class"
      ],
      "metadata": {
        "id": "lba1qrC_GTv5"
      },
      "execution_count": null,
      "outputs": []
    },
    {
      "cell_type": "code",
      "source": [
        "class Parent1:\n",
        "  def __init__(self,p1):\n",
        "    self.p1=p1\n",
        "  def displayP1(self):\n",
        "    print(\"p1 from Parent1 is\",self.p1)"
      ],
      "metadata": {
        "id": "YFYtJoUXHjWC"
      },
      "execution_count": null,
      "outputs": []
    },
    {
      "cell_type": "code",
      "source": [
        "class Child1(Parent1):#Child1 extends from Parent1\n",
        "  def __init__(self,p1,p2):\n",
        "    Parent1.__init__(self,p1)#Calling base class constructor\n",
        "    self.p2=p2\n",
        "  def displayP2(self):\n",
        "    print(\"p2 is\",self.p2)"
      ],
      "metadata": {
        "id": "2Q1Ag5RfHw_S"
      },
      "execution_count": null,
      "outputs": []
    },
    {
      "cell_type": "code",
      "source": [
        "c1=Child1(10,20)\n",
        "c1.displayP1()"
      ],
      "metadata": {
        "colab": {
          "base_uri": "https://localhost:8080/"
        },
        "id": "8QmY2W4IIFNa",
        "outputId": "1a93c68b-524a-491b-b867-deddb0a8f3f7"
      },
      "execution_count": null,
      "outputs": [
        {
          "output_type": "stream",
          "name": "stdout",
          "text": [
            "p1 from Parent1 is 10\n"
          ]
        }
      ]
    },
    {
      "cell_type": "code",
      "source": [
        "class Child2(Parent1):#Child1 extends from Parent1\n",
        "  def __init__(self,p1,p2):\n",
        "    super().__init__(p1)\n",
        "    self.p2=p2\n",
        "  def displayP2(self):\n",
        "    print(\"p2 is\",self.p2)"
      ],
      "metadata": {
        "id": "bVSLHzmqIK-j"
      },
      "execution_count": null,
      "outputs": []
    },
    {
      "cell_type": "code",
      "source": [
        "c2=Child2(10,20)\n",
        "c2.displayP1()"
      ],
      "metadata": {
        "colab": {
          "base_uri": "https://localhost:8080/"
        },
        "id": "zYxSc5fkJj_Y",
        "outputId": "ba35374c-777a-4942-9a5b-a1f860b625b6"
      },
      "execution_count": null,
      "outputs": [
        {
          "output_type": "stream",
          "name": "stdout",
          "text": [
            "p1 from Parent1 is 10\n"
          ]
        }
      ]
    },
    {
      "cell_type": "code",
      "source": [
        "class Parent2:\n",
        "  def __init__(self,p1):\n",
        "    self.p1=p1\n",
        "  def display(self):\n",
        "    print(\"p1 from Parent2 is\",self.p1)"
      ],
      "metadata": {
        "id": "Cl_gpYXwJnqI"
      },
      "execution_count": null,
      "outputs": []
    },
    {
      "cell_type": "code",
      "source": [
        "class Parent3:\n",
        "  def __init__(self,p2):\n",
        "    self.p2=p2\n",
        "  def display(self):\n",
        "    print(\"p2 from Parent3 is\",self.p2)"
      ],
      "metadata": {
        "id": "yxHkmrpbKrYv"
      },
      "execution_count": null,
      "outputs": []
    },
    {
      "cell_type": "code",
      "source": [
        "class Child3(Parent2,Parent3):#Ambiguity is resolved by sequence\n",
        "  def __init__(self,p1,p2):\n",
        "    Parent2.__init__(self,p1)\n",
        "    Parent3.__init__(self,p2)\n"
      ],
      "metadata": {
        "id": "QExR9RCWK1TX"
      },
      "execution_count": null,
      "outputs": []
    },
    {
      "cell_type": "code",
      "source": [
        "c3 = Child3(10,12)\n",
        "c3.display()"
      ],
      "metadata": {
        "colab": {
          "base_uri": "https://localhost:8080/"
        },
        "id": "1p0KrTHrLJ14",
        "outputId": "ae74ec7c-abb2-49ee-eb43-9d9e71bc0092"
      },
      "execution_count": null,
      "outputs": [
        {
          "output_type": "stream",
          "name": "stdout",
          "text": [
            "p1 from Parent2 is 10\n"
          ]
        }
      ]
    },
    {
      "cell_type": "code",
      "source": [
        "class Child4(Parent3,Parent2):#Ambiguity is resolved by sequence\n",
        "  def __init__(self,p1,p2):\n",
        "    Parent2.__init__(self,p1)\n",
        "    Parent3.__init__(self,p2)\n"
      ],
      "metadata": {
        "id": "WkVCXJySLPFY"
      },
      "execution_count": null,
      "outputs": []
    },
    {
      "cell_type": "code",
      "source": [
        "c4 = Child4(10,12)\n",
        "c4.display()"
      ],
      "metadata": {
        "colab": {
          "base_uri": "https://localhost:8080/"
        },
        "id": "FZIOvbh3Mw_n",
        "outputId": "8a984778-7e97-4ae0-de4d-b5c3851edaf9"
      },
      "execution_count": null,
      "outputs": [
        {
          "output_type": "stream",
          "name": "stdout",
          "text": [
            "p2 from Parent3 is 12\n"
          ]
        }
      ]
    },
    {
      "cell_type": "code",
      "source": [
        "class DynamicEg:\n",
        "  def __init__(self,p1):\n",
        "    self.p1=p1"
      ],
      "metadata": {
        "id": "TBT4ZV7GM0zL"
      },
      "execution_count": null,
      "outputs": []
    },
    {
      "cell_type": "code",
      "source": [
        "d1 = DynamicEg(22)"
      ],
      "metadata": {
        "id": "o1itgvWsNe5U"
      },
      "execution_count": null,
      "outputs": []
    },
    {
      "cell_type": "code",
      "source": [
        "d1.p1"
      ],
      "metadata": {
        "colab": {
          "base_uri": "https://localhost:8080/"
        },
        "id": "TxAsvMoLNhVd",
        "outputId": "b893efaf-8ffd-4783-b53c-449b667691a8"
      },
      "execution_count": null,
      "outputs": [
        {
          "output_type": "execute_result",
          "data": {
            "text/plain": [
              "22"
            ]
          },
          "metadata": {},
          "execution_count": 30
        }
      ]
    },
    {
      "cell_type": "code",
      "source": [
        "d1.p2=34"
      ],
      "metadata": {
        "id": "azyKyHPcNihR"
      },
      "execution_count": null,
      "outputs": []
    },
    {
      "cell_type": "code",
      "source": [
        "d1.p2"
      ],
      "metadata": {
        "colab": {
          "base_uri": "https://localhost:8080/"
        },
        "id": "GIqU2ugqNmXD",
        "outputId": "6d038933-4881-425f-cf67-e69af88d15d0"
      },
      "execution_count": null,
      "outputs": [
        {
          "output_type": "execute_result",
          "data": {
            "text/plain": [
              "34"
            ]
          },
          "metadata": {},
          "execution_count": 32
        }
      ]
    },
    {
      "cell_type": "code",
      "source": [
        "class StaticEg:\n",
        "  __slots__=[\"p1\"]\n",
        "  def __init__(self,p1):\n",
        "    self.p1=p1"
      ],
      "metadata": {
        "id": "S-cehjc1NnOI"
      },
      "execution_count": null,
      "outputs": []
    },
    {
      "cell_type": "code",
      "source": [
        "s1=StaticEg(22)"
      ],
      "metadata": {
        "id": "MUj9M09PN3P9"
      },
      "execution_count": null,
      "outputs": []
    },
    {
      "cell_type": "code",
      "source": [
        "s1.p1"
      ],
      "metadata": {
        "colab": {
          "base_uri": "https://localhost:8080/"
        },
        "id": "2PS8CFYhN7e-",
        "outputId": "d159c547-dc98-455e-9774-4f2148ebc31a"
      },
      "execution_count": null,
      "outputs": [
        {
          "output_type": "execute_result",
          "data": {
            "text/plain": [
              "22"
            ]
          },
          "metadata": {},
          "execution_count": 39
        }
      ]
    },
    {
      "cell_type": "code",
      "source": [
        "s1.p2=24"
      ],
      "metadata": {
        "colab": {
          "base_uri": "https://localhost:8080/",
          "height": 144
        },
        "id": "FV12LdhWN8Xb",
        "outputId": "1b92f3b6-eb4c-4762-827f-d284355d35fc"
      },
      "execution_count": null,
      "outputs": [
        {
          "output_type": "error",
          "ename": "AttributeError",
          "evalue": "'StaticEg' object has no attribute 'p2'",
          "traceback": [
            "\u001b[0;31m---------------------------------------------------------------------------\u001b[0m",
            "\u001b[0;31mAttributeError\u001b[0m                            Traceback (most recent call last)",
            "\u001b[0;32m<ipython-input-40-d0ac2875ca54>\u001b[0m in \u001b[0;36m<cell line: 0>\u001b[0;34m()\u001b[0m\n\u001b[0;32m----> 1\u001b[0;31m \u001b[0ms1\u001b[0m\u001b[0;34m.\u001b[0m\u001b[0mp2\u001b[0m\u001b[0;34m=\u001b[0m\u001b[0;36m24\u001b[0m\u001b[0;34m\u001b[0m\u001b[0;34m\u001b[0m\u001b[0m\n\u001b[0m",
            "\u001b[0;31mAttributeError\u001b[0m: 'StaticEg' object has no attribute 'p2'"
          ]
        }
      ]
    },
    {
      "cell_type": "code",
      "source": [
        "d1.__dict__"
      ],
      "metadata": {
        "colab": {
          "base_uri": "https://localhost:8080/"
        },
        "id": "p_Pbpp2RPL9C",
        "outputId": "dc6d16f5-dedf-4771-c6f7-ad3abbfc5a34"
      },
      "execution_count": null,
      "outputs": [
        {
          "output_type": "execute_result",
          "data": {
            "text/plain": [
              "{'p1': 22, 'p2': 34}"
            ]
          },
          "metadata": {},
          "execution_count": 41
        }
      ]
    },
    {
      "cell_type": "code",
      "source": [
        "#Private __\n",
        "#Protected _\n",
        "#Public"
      ],
      "metadata": {
        "id": "GYWqEvsuPRCy"
      },
      "execution_count": null,
      "outputs": []
    },
    {
      "cell_type": "code",
      "source": [
        "class PrivateEg:\n",
        "  def __init__(self,p1):\n",
        "    self.__p1=p1 #private variable\n",
        "  def __display(self):\n",
        "    print(\"p1 is\",self.__p1)"
      ],
      "metadata": {
        "id": "dvm1vFlbQDXZ"
      },
      "execution_count": null,
      "outputs": []
    },
    {
      "cell_type": "code",
      "source": [
        "p1 = PrivateEg(10)"
      ],
      "metadata": {
        "id": "Cphxe1z8QQTB"
      },
      "execution_count": null,
      "outputs": []
    },
    {
      "cell_type": "code",
      "source": [
        "p1._PrivateEg__display()"
      ],
      "metadata": {
        "colab": {
          "base_uri": "https://localhost:8080/"
        },
        "id": "4hEbtYY5QTA-",
        "outputId": "b0fae4ee-7801-4600-dc37-c5b6e029b894"
      },
      "execution_count": null,
      "outputs": [
        {
          "output_type": "stream",
          "name": "stdout",
          "text": [
            "p1 is 10\n"
          ]
        }
      ]
    },
    {
      "cell_type": "code",
      "source": [
        "p1._PrivateEg__p1"
      ],
      "metadata": {
        "colab": {
          "base_uri": "https://localhost:8080/"
        },
        "id": "KGhqy0fRQaRQ",
        "outputId": "dc103aa4-1365-4253-cd16-32787bd489f4"
      },
      "execution_count": null,
      "outputs": [
        {
          "output_type": "execute_result",
          "data": {
            "text/plain": [
              "10"
            ]
          },
          "metadata": {},
          "execution_count": 45
        }
      ]
    },
    {
      "cell_type": "code",
      "source": [
        "class SetterGetter:\n",
        "  def __init__(self):\n",
        "    self.__p1=0\n",
        "  @property\n",
        "  def p1(self):\n",
        "    print(\"Inside getter\")\n",
        "    return self.__p1\n",
        "  @p1.setter#Decorators\n",
        "  def p1(self,p1):\n",
        "    print(\"Inside setter\")\n",
        "    self.__p1=p1"
      ],
      "metadata": {
        "id": "B-JjRGQbQcLO"
      },
      "execution_count": null,
      "outputs": []
    },
    {
      "cell_type": "code",
      "source": [
        "sg1=SetterGetter()\n",
        "sg1.p1=32"
      ],
      "metadata": {
        "colab": {
          "base_uri": "https://localhost:8080/"
        },
        "id": "yyRaDB4YR-Mb",
        "outputId": "d1d9925d-3361-4fe6-ffbe-770b9d7ad4b1"
      },
      "execution_count": null,
      "outputs": [
        {
          "output_type": "stream",
          "name": "stdout",
          "text": [
            "Inside setter\n"
          ]
        }
      ]
    },
    {
      "cell_type": "code",
      "source": [
        "sg1.p1"
      ],
      "metadata": {
        "colab": {
          "base_uri": "https://localhost:8080/"
        },
        "id": "NMqtAzBsSHrm",
        "outputId": "801afb58-f8bb-45b9-e6d3-9249e3f1c36f"
      },
      "execution_count": null,
      "outputs": [
        {
          "output_type": "stream",
          "name": "stdout",
          "text": [
            "Inside getter\n"
          ]
        },
        {
          "output_type": "execute_result",
          "data": {
            "text/plain": [
              "32"
            ]
          },
          "metadata": {},
          "execution_count": 49
        }
      ]
    },
    {
      "cell_type": "code",
      "source": [
        "class Complex:\n",
        "  def __init__(self,real,img) :\n",
        "    self.real=real\n",
        "    self.img=img\n",
        "  def add(self,c2):\n",
        "    real = self.real+c2.real\n",
        "    img = self.img+c2.img\n",
        "    return Complex(real,img)\n",
        "  def __add__(self,c2):#+Operator overloading\n",
        "    return self.add(c2)\n",
        "  def display(self):\n",
        "    print(\"{} + {}i\".format(self.real,self.img))\n"
      ],
      "metadata": {
        "id": "6l9S-PIbSLFi"
      },
      "execution_count": null,
      "outputs": []
    },
    {
      "cell_type": "code",
      "source": [],
      "metadata": {
        "id": "UZvLlcFai78T"
      },
      "execution_count": null,
      "outputs": []
    },
    {
      "cell_type": "code",
      "source": [
        "c1 = Complex(2,3)\n",
        "c2 = Complex(4,5)\n",
        "c3 = c1.add(c2)\n",
        "c3.display()\n",
        "c4 = c1 + c2\n",
        "c4.display()"
      ],
      "metadata": {
        "colab": {
          "base_uri": "https://localhost:8080/"
        },
        "id": "nUjN_AxPXzpZ",
        "outputId": "05bcddfd-54e3-4f65-fc1b-4458e5782ba8"
      },
      "execution_count": null,
      "outputs": [
        {
          "output_type": "stream",
          "name": "stdout",
          "text": [
            "6 + 8i\n",
            "6 + 8i\n"
          ]
        }
      ]
    },
    {
      "cell_type": "code",
      "source": [
        "class Point:\n",
        "  def __init__(self,x,y):\n",
        "    self.x = x\n",
        "    self.y = y\n",
        "  def __lt__(self,p1):\n",
        "    selftotal=self.x*self.x+self.y*self.y\n",
        "    p1total = p1.x*p1.x+p1.y*p1.y\n",
        "    return selftotal<p1total\n",
        "  def __le__(self,p1):\n",
        "    selftotal=self.x*self.x+self.y*self.y\n",
        "    p1total = p1.x*p1.x+p1.y*p1.y\n",
        "    return selftotal<=p1total\n",
        "  def __gt__(self,p1):\n",
        "    selftotal=self.x*self.x+self.y*self.y\n",
        "    p1total = p1.x*p1.x+p1.y*p1.y\n",
        "    return selftotal>p1total\n",
        "  def __ge__(self,p1):\n",
        "    selftotal=self.x*self.x+self.y*self.y\n",
        "    p1total = p1.x*p1.x+p1.y*p1.y\n",
        "    return selftotal>=p1total\n",
        "  def __eq__(self,p1):\n",
        "    selftotal=self.x*self.x+self.y*self.y\n",
        "    p1total = p1.x*p1.x+p1.y*p1.y\n",
        "    return selftotal==p1total\n"
      ],
      "metadata": {
        "id": "AhmJ9NHIX6ml"
      },
      "execution_count": null,
      "outputs": []
    },
    {
      "cell_type": "code",
      "source": [
        "p1= Point(10,2)\n",
        "p2 =Point(1,6)\n",
        "print(p1<p2)\n",
        "print(p1>p2)\n",
        "print(p1==p2)\n",
        "print(p1>=p2)\n",
        "print(p1<=p2)"
      ],
      "metadata": {
        "colab": {
          "base_uri": "https://localhost:8080/"
        },
        "id": "FKx1Ysh2Z7-H",
        "outputId": "0fb30c8c-acfb-45b7-f4dd-233be6319cb8"
      },
      "execution_count": null,
      "outputs": [
        {
          "output_type": "stream",
          "name": "stdout",
          "text": [
            "False\n",
            "True\n",
            "False\n",
            "True\n",
            "False\n"
          ]
        }
      ]
    },
    {
      "cell_type": "code",
      "source": [
        "class StringfiedClass:\n",
        "  def __init__(self,p1):\n",
        "    self.p1=p1\n",
        "  def __str__(self):\n",
        "    return \"Stringfied value is {}\".format(self.p1)\n"
      ],
      "metadata": {
        "id": "6LB7ycriaK7I"
      },
      "execution_count": null,
      "outputs": []
    },
    {
      "cell_type": "code",
      "source": [
        "s1= StringfiedClass(10)\n",
        "print(str(s1))"
      ],
      "metadata": {
        "colab": {
          "base_uri": "https://localhost:8080/"
        },
        "id": "0vLa1fVSbVgl",
        "outputId": "9a36960b-13dc-4bd1-e721-628c9ac992d0"
      },
      "execution_count": null,
      "outputs": [
        {
          "output_type": "stream",
          "name": "stdout",
          "text": [
            "Stringfied value is 10\n"
          ]
        }
      ]
    },
    {
      "cell_type": "code",
      "source": [
        "class CounterEg:\n",
        "  counter=0#Class level variable\n",
        "  def __init__(self,p1):\n",
        "    self.p1=p1\n",
        "    CounterEg.counter=CounterEg.counter+1"
      ],
      "metadata": {
        "id": "1y_5YMQ_bZCL"
      },
      "execution_count": null,
      "outputs": []
    },
    {
      "cell_type": "code",
      "source": [
        "c1 = CounterEg(10)"
      ],
      "metadata": {
        "id": "Fn25ThnAc1Fc"
      },
      "execution_count": null,
      "outputs": []
    },
    {
      "cell_type": "code",
      "source": [
        "c2 = CounterEg(12)"
      ],
      "metadata": {
        "id": "XAR8Ymrfc4Qn"
      },
      "execution_count": null,
      "outputs": []
    },
    {
      "cell_type": "code",
      "source": [
        "CounterEg.counter"
      ],
      "metadata": {
        "colab": {
          "base_uri": "https://localhost:8080/"
        },
        "id": "C18ml1yYc5_l",
        "outputId": "f4e775dd-bf26-4329-d14e-b1bd8e850efb"
      },
      "execution_count": null,
      "outputs": [
        {
          "output_type": "execute_result",
          "data": {
            "text/plain": [
              "2"
            ]
          },
          "metadata": {},
          "execution_count": 64
        }
      ]
    },
    {
      "cell_type": "code",
      "source": [
        "class CalculatorUtil:\n",
        "  @staticmethod\n",
        "  def add(a,b):\n",
        "    return a+b\n",
        "  @staticmethod\n",
        "  def sub(a,b):\n",
        "    return a-b\n",
        "  @staticmethod\n",
        "  def mul(a,b):\n",
        "     return a*b\n",
        "  @staticmethod\n",
        "  def div(a,b):\n",
        "    return a/b"
      ],
      "metadata": {
        "id": "lkto65Hyc74e"
      },
      "execution_count": null,
      "outputs": []
    },
    {
      "cell_type": "code",
      "source": [
        "CalculatorUtil.add(22,33)"
      ],
      "metadata": {
        "colab": {
          "base_uri": "https://localhost:8080/"
        },
        "id": "sWee8SoYehds",
        "outputId": "afbddfc0-ca2e-44ce-fc5f-a0c361a3f024"
      },
      "execution_count": null,
      "outputs": [
        {
          "output_type": "execute_result",
          "data": {
            "text/plain": [
              "55"
            ]
          },
          "metadata": {},
          "execution_count": 66
        }
      ]
    },
    {
      "cell_type": "code",
      "source": [
        "class Wheel:\n",
        "  def __init__(self,material):\n",
        "    self.material=material\n",
        "  def display(self):\n",
        "    print(\"Material is \",self.material)\n",
        "\n",
        "class Vehicle:\n",
        "  def __init__(self,name,type):\n",
        "    self.name=name\n",
        "    self.type=type\n",
        "    self.wheel=Wheel(\"rubber\")"
      ],
      "metadata": {
        "id": "Zij8Wr_pgetN"
      },
      "execution_count": null,
      "outputs": []
    },
    {
      "cell_type": "code",
      "source": [
        "v1 = Vehicle(\"truck\",\"heavy\")"
      ],
      "metadata": {
        "id": "idMVMY_Qg8K0"
      },
      "execution_count": null,
      "outputs": []
    },
    {
      "cell_type": "code",
      "source": [
        "v1.wheel.display()"
      ],
      "metadata": {
        "colab": {
          "base_uri": "https://localhost:8080/"
        },
        "id": "laWIYbxHhgVa",
        "outputId": "d75721e8-acc0-4c7a-d2f1-5737b68646bd"
      },
      "execution_count": null,
      "outputs": [
        {
          "output_type": "stream",
          "name": "stdout",
          "text": [
            "Material is  rubber\n"
          ]
        }
      ]
    },
    {
      "cell_type": "code",
      "source": [
        "class FunctionOverloading:\n",
        "  def hello(self,name=\"\"):\n",
        "    if name == \"\":\n",
        "      print(\"Hello from us\")\n",
        "    else:\n",
        "      print(\"Hello\",name)"
      ],
      "metadata": {
        "id": "LR9Oc-xui_EE"
      },
      "execution_count": null,
      "outputs": []
    },
    {
      "cell_type": "code",
      "source": [
        "f1 = FunctionOverloading()\n",
        "f1.hello()\n",
        "f1.hello(\"Raj\")"
      ],
      "metadata": {
        "colab": {
          "base_uri": "https://localhost:8080/"
        },
        "id": "_Ab2mSUBjO-E",
        "outputId": "c3ad4250-f1f0-459c-c6b3-141312156989"
      },
      "execution_count": null,
      "outputs": [
        {
          "output_type": "stream",
          "name": "stdout",
          "text": [
            "Hello from us\n",
            "Hello Raj\n"
          ]
        }
      ]
    },
    {
      "cell_type": "code",
      "source": [
        "#Meta programming ---decorators"
      ],
      "metadata": {
        "id": "dBrXh5XNhjpR"
      },
      "execution_count": null,
      "outputs": []
    },
    {
      "cell_type": "code",
      "source": [
        "def outer():\n",
        "  print(\"Within outer function\")\n",
        "  def inner():\n",
        "    print(\"Within inner\")\n",
        "  inner()"
      ],
      "metadata": {
        "id": "3vgnvXRple6j"
      },
      "execution_count": null,
      "outputs": []
    },
    {
      "cell_type": "code",
      "source": [
        "outer()"
      ],
      "metadata": {
        "colab": {
          "base_uri": "https://localhost:8080/"
        },
        "id": "Wa59Sr9oludl",
        "outputId": "0acf3d59-a6ac-488c-e078-9db45aa0b2c4"
      },
      "execution_count": null,
      "outputs": [
        {
          "output_type": "stream",
          "name": "stdout",
          "text": [
            "Within outer function\n",
            "Within inner\n"
          ]
        }
      ]
    },
    {
      "cell_type": "code",
      "source": [
        "def outer():\n",
        "  print(\"Within outer function\")\n",
        "  def inner():\n",
        "    print(\"Within inner\")\n",
        "  return inner#Function can be returned as a result"
      ],
      "metadata": {
        "id": "aDMqNHTjlvr9"
      },
      "execution_count": null,
      "outputs": []
    },
    {
      "cell_type": "code",
      "source": [
        "res =outer()"
      ],
      "metadata": {
        "colab": {
          "base_uri": "https://localhost:8080/"
        },
        "id": "kHHecKs7mR7D",
        "outputId": "3d52e00e-18ea-4aff-8ad9-fe9a65ad35a0"
      },
      "execution_count": null,
      "outputs": [
        {
          "output_type": "stream",
          "name": "stdout",
          "text": [
            "Within outer function\n"
          ]
        }
      ]
    },
    {
      "cell_type": "code",
      "source": [
        "res()"
      ],
      "metadata": {
        "colab": {
          "base_uri": "https://localhost:8080/"
        },
        "id": "u1OJi7simVG8",
        "outputId": "684a61d8-9ecf-4ab6-9782-6f9461315594"
      },
      "execution_count": null,
      "outputs": [
        {
          "output_type": "stream",
          "name": "stdout",
          "text": [
            "Within inner\n"
          ]
        }
      ]
    },
    {
      "cell_type": "code",
      "source": [
        "def outer(param):#Function can take another function as an argument\n",
        "  print(\"Within outer\")\n",
        "  def inner():\n",
        "    print(\"Before calling passed function\")\n",
        "    param()\n",
        "    print(\"After calling passed function\")\n",
        "  return inner"
      ],
      "metadata": {
        "id": "5G-h2IewmWE-"
      },
      "execution_count": null,
      "outputs": []
    },
    {
      "cell_type": "code",
      "source": [
        "def hello():\n",
        "  print(\"Hello from hello\")"
      ],
      "metadata": {
        "id": "vQmR1zPCnbrA"
      },
      "execution_count": null,
      "outputs": []
    },
    {
      "cell_type": "code",
      "source": [
        "res = outer(hello)"
      ],
      "metadata": {
        "colab": {
          "base_uri": "https://localhost:8080/"
        },
        "id": "MwjslrzrneLO",
        "outputId": "e1b67a9e-1c96-4123-8c4e-f8b566e8dff2"
      },
      "execution_count": null,
      "outputs": [
        {
          "output_type": "stream",
          "name": "stdout",
          "text": [
            "Within outer\n"
          ]
        }
      ]
    },
    {
      "cell_type": "code",
      "source": [
        "res()"
      ],
      "metadata": {
        "colab": {
          "base_uri": "https://localhost:8080/"
        },
        "id": "-d1MdNROnhLf",
        "outputId": "0fedd761-4647-4465-a7f2-36436b650a5a"
      },
      "execution_count": null,
      "outputs": [
        {
          "output_type": "stream",
          "name": "stdout",
          "text": [
            "Before calling passed function\n",
            "Hello from hello\n",
            "After calling passed function\n"
          ]
        }
      ]
    },
    {
      "cell_type": "code",
      "source": [
        "@outer#When we write @outer, it is calling outer function with hello2 as an argument\n",
        "def hello2():#any call to hello2 will now call inner function defined within outer\n",
        "  print(\"Hello from hello2\")"
      ],
      "metadata": {
        "colab": {
          "base_uri": "https://localhost:8080/"
        },
        "id": "aClt1t5vniiQ",
        "outputId": "dda904af-871a-47e9-c7f5-95385dfb6778"
      },
      "execution_count": null,
      "outputs": [
        {
          "output_type": "stream",
          "name": "stdout",
          "text": [
            "Within outer\n"
          ]
        }
      ]
    },
    {
      "cell_type": "code",
      "source": [
        "hello2()"
      ],
      "metadata": {
        "colab": {
          "base_uri": "https://localhost:8080/"
        },
        "id": "IJcnsv7TopTc",
        "outputId": "2849225f-de5b-404d-bc45-19541feb1c4a"
      },
      "execution_count": null,
      "outputs": [
        {
          "output_type": "stream",
          "name": "stdout",
          "text": [
            "Before calling passed function\n",
            "Hello from hello2\n",
            "After calling passed function\n"
          ]
        }
      ]
    },
    {
      "cell_type": "code",
      "source": [
        "#Python 3.5 ----> type hinting\n",
        "def add(a:int,b:int)-> int:\n",
        "  return a+b"
      ],
      "metadata": {
        "id": "H1ckqN_Toqmw"
      },
      "execution_count": null,
      "outputs": []
    },
    {
      "cell_type": "code",
      "source": [
        "res = add(22,33)\n",
        "print(res)"
      ],
      "metadata": {
        "colab": {
          "base_uri": "https://localhost:8080/"
        },
        "id": "uJwKLmGe7kbc",
        "outputId": "9660da02-66a3-4659-b458-805cbf4c68f5"
      },
      "execution_count": null,
      "outputs": [
        {
          "output_type": "stream",
          "name": "stdout",
          "text": [
            "55\n"
          ]
        }
      ]
    },
    {
      "cell_type": "code",
      "source": [
        "from collections import namedtuple\n",
        "#using named tuple u can create classes on fly"
      ],
      "metadata": {
        "id": "8p826X8s8TLH"
      },
      "execution_count": null,
      "outputs": []
    },
    {
      "cell_type": "code",
      "source": [
        "CustomPoint=namedtuple(\"CustomPoint\",\"x y\")"
      ],
      "metadata": {
        "id": "dNK30Y5y8W91"
      },
      "execution_count": null,
      "outputs": []
    },
    {
      "cell_type": "code",
      "source": [
        "c1 = CustomPoint(10,15)\n",
        "print(c1.x)\n",
        "print(c1.y)"
      ],
      "metadata": {
        "colab": {
          "base_uri": "https://localhost:8080/"
        },
        "id": "8Qb743lL8gwp",
        "outputId": "52023609-0e97-4c18-c918-9312c6565336"
      },
      "execution_count": null,
      "outputs": [
        {
          "output_type": "stream",
          "name": "stdout",
          "text": [
            "10\n",
            "15\n"
          ]
        }
      ]
    },
    {
      "cell_type": "code",
      "source": [
        "class Emp:\n",
        "  def __init__(self,empId,empName):\n",
        "    self.empId=empId\n",
        "    self.empName=empName\n",
        "  def __str__(self) -> str:\n",
        "    return \"emp ID {} emp name {}\".format(self.empId,self.empName)"
      ],
      "metadata": {
        "id": "cnADjpsi8ot_"
      },
      "execution_count": null,
      "outputs": []
    },
    {
      "cell_type": "code",
      "source": [
        "e1 = Emp(10,\"Raj\")\n",
        "print(e1)"
      ],
      "metadata": {
        "colab": {
          "base_uri": "https://localhost:8080/"
        },
        "id": "nq-Z61AI9m5m",
        "outputId": "97ace14e-1379-461c-e346-afeaff81aed3"
      },
      "execution_count": null,
      "outputs": [
        {
          "output_type": "stream",
          "name": "stdout",
          "text": [
            "emp ID 10 emp name Raj\n"
          ]
        }
      ]
    },
    {
      "cell_type": "code",
      "source": [
        "from dataclasses import dataclass\n",
        "@dataclass\n",
        "class Emp:\n",
        "  empId:int\n",
        "  empName:str"
      ],
      "metadata": {
        "id": "51o-aW8W9qo_"
      },
      "execution_count": null,
      "outputs": []
    },
    {
      "cell_type": "code",
      "source": [
        "e1 = Emp(10,\"Raj\")\n",
        "print(e1)"
      ],
      "metadata": {
        "colab": {
          "base_uri": "https://localhost:8080/"
        },
        "id": "SrXJ9q8F92jl",
        "outputId": "6cc4f4ab-b71a-40b1-e81e-857c58fbe197"
      },
      "execution_count": null,
      "outputs": [
        {
          "output_type": "stream",
          "name": "stdout",
          "text": [
            "Emp(empId=10, empName='Raj')\n"
          ]
        }
      ]
    },
    {
      "cell_type": "code",
      "source": [
        "from abc import ABC,abstractmethod\n",
        "\n",
        "\n",
        "class Animal(ABC):\n",
        "  @property\n",
        "  @abstractmethod\n",
        "  def name(self):\n",
        "    pass\n",
        "\n",
        "  @abstractmethod\n",
        "  def  eat(self):\n",
        "    pass\n",
        "\n",
        "  def walk(self):\n",
        "    print(\"Animal walks\")\n",
        "\n",
        "class Cow(Animal):\n",
        "  @property\n",
        "  def name(self):\n",
        "    return \"Cow\"\n",
        "  def eat(self):\n",
        "    print(\"Cow eats grass\")\n",
        "c1=Cow()\n",
        "c1.eat()\n",
        "c1.walk()\n",
        "print(c1.name)"
      ],
      "metadata": {
        "colab": {
          "base_uri": "https://localhost:8080/"
        },
        "id": "YNNmj61Y94N2",
        "outputId": "db645d56-3a51-449c-9708-2e4cd2192254"
      },
      "execution_count": null,
      "outputs": [
        {
          "output_type": "stream",
          "name": "stdout",
          "text": [
            "Cow eats grass\n",
            "Animal walks\n",
            "Cow\n"
          ]
        }
      ]
    },
    {
      "cell_type": "code",
      "source": [
        "a1=Animal()"
      ],
      "metadata": {
        "colab": {
          "base_uri": "https://localhost:8080/",
          "height": 144
        },
        "id": "UaKtBboiAEpc",
        "outputId": "4785e910-a07b-41a3-e31d-92e56b291fd9"
      },
      "execution_count": null,
      "outputs": [
        {
          "output_type": "error",
          "ename": "TypeError",
          "evalue": "Can't instantiate abstract class Animal with abstract method eat",
          "traceback": [
            "\u001b[0;31m---------------------------------------------------------------------------\u001b[0m",
            "\u001b[0;31mTypeError\u001b[0m                                 Traceback (most recent call last)",
            "\u001b[0;32m<ipython-input-106-8ea4a5c64e4b>\u001b[0m in \u001b[0;36m<cell line: 0>\u001b[0;34m()\u001b[0m\n\u001b[0;32m----> 1\u001b[0;31m \u001b[0ma1\u001b[0m\u001b[0;34m=\u001b[0m\u001b[0mAnimal\u001b[0m\u001b[0;34m(\u001b[0m\u001b[0;34m)\u001b[0m\u001b[0;34m\u001b[0m\u001b[0;34m\u001b[0m\u001b[0m\n\u001b[0m",
            "\u001b[0;31mTypeError\u001b[0m: Can't instantiate abstract class Animal with abstract method eat"
          ]
        }
      ]
    },
    {
      "cell_type": "code",
      "source": [
        "from enum import Enum,unique\n",
        "@unique\n",
        "class Country(Enum):\n",
        "  IN=1\n",
        "  US=2\n",
        "  UK=3\n",
        "  BH=20"
      ],
      "metadata": {
        "id": "5hCpcn2TAGZw"
      },
      "execution_count": null,
      "outputs": []
    },
    {
      "cell_type": "code",
      "source": [
        "india =Country.IN\n",
        "print(india)"
      ],
      "metadata": {
        "colab": {
          "base_uri": "https://localhost:8080/"
        },
        "id": "wllkiGCVB2kD",
        "outputId": "212b6680-8d5c-48cb-cf1b-fdd41865ef32"
      },
      "execution_count": null,
      "outputs": [
        {
          "output_type": "stream",
          "name": "stdout",
          "text": [
            "Country.IN\n"
          ]
        }
      ]
    },
    {
      "cell_type": "code",
      "source": [
        "for c in Country:\n",
        "  print(c.name,c.value)"
      ],
      "metadata": {
        "colab": {
          "base_uri": "https://localhost:8080/"
        },
        "id": "_IzM9WFSB86b",
        "outputId": "14d4c061-d372-49a2-9534-70ddcd373df5"
      },
      "execution_count": null,
      "outputs": [
        {
          "output_type": "stream",
          "name": "stdout",
          "text": [
            "IN 1\n",
            "US 2\n",
            "UK 3\n",
            "BH 20\n"
          ]
        }
      ]
    },
    {
      "cell_type": "code",
      "source": [
        "pip install multipledispatch"
      ],
      "metadata": {
        "colab": {
          "base_uri": "https://localhost:8080/"
        },
        "id": "wbd3kd6vCpGk",
        "outputId": "f3e2edd2-eaa4-4c13-989d-1f115ae09974"
      },
      "execution_count": null,
      "outputs": [
        {
          "output_type": "stream",
          "name": "stdout",
          "text": [
            "Requirement already satisfied: multipledispatch in /usr/local/lib/python3.11/dist-packages (1.0.0)\n"
          ]
        }
      ]
    },
    {
      "cell_type": "code",
      "source": [
        "from multipledispatch import dispatch\n",
        "\n",
        "class Calculator:\n",
        "  @dispatch(int,int)\n",
        "  def add(self,a,b):\n",
        "    return a+b\n",
        "  @dispatch(int,int,int)\n",
        "  def add(self,a,b,c):\n",
        "    return a+b+c"
      ],
      "metadata": {
        "id": "jXiznJ_ADHtd"
      },
      "execution_count": null,
      "outputs": []
    },
    {
      "cell_type": "code",
      "source": [
        "c1=Calculator()\n",
        "print(c1.add(22,33))\n",
        "print(c1.add(22,33,44))"
      ],
      "metadata": {
        "colab": {
          "base_uri": "https://localhost:8080/"
        },
        "id": "7O3p9PHgDYZN",
        "outputId": "ed1973a8-50d2-4380-cf3c-a7090565fe45"
      },
      "execution_count": null,
      "outputs": [
        {
          "output_type": "stream",
          "name": "stdout",
          "text": [
            "55\n",
            "99\n"
          ]
        }
      ]
    },
    {
      "cell_type": "code",
      "source": [
        "pip install python-interface"
      ],
      "metadata": {
        "colab": {
          "base_uri": "https://localhost:8080/"
        },
        "id": "m2kDecLaDg4I",
        "outputId": "d27377f6-0279-4810-8292-8999b96002dc"
      },
      "execution_count": null,
      "outputs": [
        {
          "output_type": "stream",
          "name": "stdout",
          "text": [
            "Collecting python-interface\n",
            "  Downloading python-interface-1.6.1.tar.gz (19 kB)\n",
            "  Preparing metadata (setup.py) ... \u001b[?25l\u001b[?25hdone\n",
            "Requirement already satisfied: six in /usr/local/lib/python3.11/dist-packages (from python-interface) (1.17.0)\n",
            "Building wheels for collected packages: python-interface\n",
            "  Building wheel for python-interface (setup.py) ... \u001b[?25l\u001b[?25hdone\n",
            "  Created wheel for python-interface: filename=python_interface-1.6.1-py3-none-any.whl size=23220 sha256=029152c74d58d0ef741418a844aa33d4a73efc4e57f13936099d3259627ef3f3\n",
            "  Stored in directory: /root/.cache/pip/wheels/21/0b/9e/f35e76c1533933fdc351488b1bcdf29b10b0df7589f5971fb9\n",
            "Successfully built python-interface\n",
            "Installing collected packages: python-interface\n",
            "Successfully installed python-interface-1.6.1\n"
          ]
        }
      ]
    },
    {
      "cell_type": "code",
      "source": [
        "from interface import implements, Interface\n",
        "\n",
        "class MyInterface(Interface):\n",
        "  def m1(self):\n",
        "    pass\n",
        "  def m2(self):\n",
        "    pass\n",
        "\n",
        "class MyClass(implements(MyInterface)):\n",
        "  def m1(self):\n",
        "    print(\"m1 from MyClass\")\n",
        "  def m2(self):\n",
        "    print(\"m2 from MyClass\")"
      ],
      "metadata": {
        "id": "s6THq8gHFJXT",
        "outputId": "32fa8810-85c4-444c-c371-58bc94a927a7",
        "colab": {
          "base_uri": "https://localhost:8080/",
          "height": 391
        }
      },
      "execution_count": null,
      "outputs": [
        {
          "output_type": "error",
          "ename": "ModuleNotFoundError",
          "evalue": "No module named 'interface'",
          "traceback": [
            "\u001b[0;31m---------------------------------------------------------------------------\u001b[0m",
            "\u001b[0;31mModuleNotFoundError\u001b[0m                       Traceback (most recent call last)",
            "\u001b[0;32m<ipython-input-1-506db37ebfbc>\u001b[0m in \u001b[0;36m<cell line: 0>\u001b[0;34m()\u001b[0m\n\u001b[0;32m----> 1\u001b[0;31m \u001b[0;32mfrom\u001b[0m \u001b[0minterface\u001b[0m \u001b[0;32mimport\u001b[0m \u001b[0mimplements\u001b[0m\u001b[0;34m,\u001b[0m \u001b[0mInterface\u001b[0m\u001b[0;34m\u001b[0m\u001b[0;34m\u001b[0m\u001b[0m\n\u001b[0m\u001b[1;32m      2\u001b[0m \u001b[0;34m\u001b[0m\u001b[0m\n\u001b[1;32m      3\u001b[0m \u001b[0;32mclass\u001b[0m \u001b[0mMyInterface\u001b[0m\u001b[0;34m(\u001b[0m\u001b[0mInterface\u001b[0m\u001b[0;34m)\u001b[0m\u001b[0;34m:\u001b[0m\u001b[0;34m\u001b[0m\u001b[0;34m\u001b[0m\u001b[0m\n\u001b[1;32m      4\u001b[0m   \u001b[0;32mdef\u001b[0m \u001b[0mm1\u001b[0m\u001b[0;34m(\u001b[0m\u001b[0mself\u001b[0m\u001b[0;34m)\u001b[0m\u001b[0;34m:\u001b[0m\u001b[0;34m\u001b[0m\u001b[0;34m\u001b[0m\u001b[0m\n\u001b[1;32m      5\u001b[0m     \u001b[0;32mpass\u001b[0m\u001b[0;34m\u001b[0m\u001b[0;34m\u001b[0m\u001b[0m\n",
            "\u001b[0;31mModuleNotFoundError\u001b[0m: No module named 'interface'",
            "",
            "\u001b[0;31m---------------------------------------------------------------------------\u001b[0;32m\nNOTE: If your import is failing due to a missing package, you can\nmanually install dependencies using either !pip or !apt.\n\nTo view examples of installing some common dependencies, click the\n\"Open Examples\" button below.\n\u001b[0;31m---------------------------------------------------------------------------\u001b[0m\n"
          ],
          "errorDetails": {
            "actions": [
              {
                "action": "open_url",
                "actionText": "Open Examples",
                "url": "/notebooks/snippets/importing_libraries.ipynb"
              }
            ]
          }
        }
      ]
    },
    {
      "cell_type": "code",
      "source": [
        "import logging\n",
        "import sys\n",
        "logger=logging.getLogger()\n",
        "stream_handler=logging.StreamHandler(sys.stdout)\n",
        "stream_handler.setFormatter(logging.Formatter(\"%(asctime)s - %(name)s - %(levelname)s - %(message)s\"))\n",
        "\n",
        "logger.addHandler(stream_handler)\n",
        "logger.setLevel(logging.INFO)\n",
        "logger.info(\"This is for tet\")"
      ],
      "metadata": {
        "id": "qmloDnihG3zs"
      },
      "execution_count": null,
      "outputs": []
    },
    {
      "cell_type": "code",
      "source": [
        "def add(a,b):\n",
        "  return a+b\n",
        "add_lambda = lambda a,b:a+b\n",
        "print(add(22,33))\n",
        "print(add_lambda(22,33))"
      ],
      "metadata": {
        "colab": {
          "base_uri": "https://localhost:8080/"
        },
        "id": "KG_smNZSHBKU",
        "outputId": "5b99aa62-4010-422b-9894-4c0e54b66a48"
      },
      "execution_count": null,
      "outputs": [
        {
          "output_type": "stream",
          "name": "stdout",
          "text": [
            "55\n",
            "55\n"
          ]
        }
      ]
    },
    {
      "cell_type": "code",
      "source": [
        "try:\n",
        "  n1 = int(input(\"Enter a number\"))\n",
        "  n2 = int(input(\"Enter a number\"))\n",
        "  res = n1/n2\n",
        "  print(res)\n",
        "except ValueError as ve:\n",
        "  print(\"Value error occured\",ve)\n",
        "except ZeroDivisionError as zde:\n",
        "  print(\"Zero division error occured\",zde)\n",
        "except Exception as e:\n",
        "  print(\"Exception occured\",e)\n",
        "finally:\n",
        "  print(\"This is always called\")\n",
        "\n"
      ],
      "metadata": {
        "colab": {
          "base_uri": "https://localhost:8080/"
        },
        "id": "9eZJy5hmIQg1",
        "outputId": "85036d3d-5220-484e-d5ae-668516a8b897"
      },
      "execution_count": null,
      "outputs": [
        {
          "output_type": "stream",
          "name": "stdout",
          "text": [
            "Enter a numberA\n",
            "Value error occured invalid literal for int() with base 10: 'A'\n",
            "This is always called\n"
          ]
        }
      ]
    },
    {
      "cell_type": "code",
      "source": [
        "class PasswordNotEqualException(Exception):\n",
        "  pass"
      ],
      "metadata": {
        "id": "_LQ4RhGNJKwV"
      },
      "execution_count": null,
      "outputs": []
    },
    {
      "cell_type": "code",
      "source": [
        "try:\n",
        "  password1 = input(\"Enter password\")\n",
        "  password2 = input(\"Enter password again\")\n",
        "  if password1 != password2:\n",
        "    raise PasswordNotEqualException(\"Passwords are not equal\")\n",
        "except PasswordNotEqualException as e:\n",
        "  print(e)\n",
        "\n",
        "except Exception as e:\n",
        "  print(\"Exception occured\",e)"
      ],
      "metadata": {
        "colab": {
          "base_uri": "https://localhost:8080/"
        },
        "id": "EA2PfO-bKi1t",
        "outputId": "951e88f2-9d95-426a-e1d3-10f9ec7bcff9"
      },
      "execution_count": null,
      "outputs": [
        {
          "output_type": "stream",
          "name": "stdout",
          "text": [
            "Enter password123\n",
            "Enter password again1234\n",
            "Passwords are not equal\n"
          ]
        }
      ]
    },
    {
      "cell_type": "code",
      "source": [
        "from typing import Optional\n",
        "\n",
        "def add(a,b=0)->Optional[int]:\n",
        "  if b==0:\n",
        "    return None\n",
        "  else:\n",
        "    return a+b"
      ],
      "metadata": {
        "id": "1zhKd7KFK01e"
      },
      "execution_count": null,
      "outputs": []
    },
    {
      "cell_type": "code",
      "source": [
        "add(3)"
      ],
      "metadata": {
        "id": "mdZ0DmEHM2KF"
      },
      "execution_count": null,
      "outputs": []
    },
    {
      "cell_type": "code",
      "source": [
        "add(3,4)"
      ],
      "metadata": {
        "colab": {
          "base_uri": "https://localhost:8080/"
        },
        "id": "W8HyhgHUM36o",
        "outputId": "11d9006e-c26c-4a78-ab24-a89434d4995f"
      },
      "execution_count": null,
      "outputs": [
        {
          "output_type": "execute_result",
          "data": {
            "text/plain": [
              "7"
            ]
          },
          "metadata": {},
          "execution_count": 137
        }
      ]
    },
    {
      "cell_type": "code",
      "source": [
        "def range_generator(n):\n",
        "  value=0\n",
        "  while value <= n:\n",
        "    yield value\n",
        "    value=value +1"
      ],
      "metadata": {
        "id": "Osc1JAkNM6jJ"
      },
      "execution_count": null,
      "outputs": []
    },
    {
      "cell_type": "code",
      "source": [
        "range_g=range_generator(3)"
      ],
      "metadata": {
        "id": "mDOTu2M7ONNX"
      },
      "execution_count": null,
      "outputs": []
    },
    {
      "cell_type": "code",
      "source": [
        "next(range_g)"
      ],
      "metadata": {
        "colab": {
          "base_uri": "https://localhost:8080/"
        },
        "id": "Xrv0J0svOQu5",
        "outputId": "c3669a26-05ae-461c-e5bf-0779df057b2c"
      },
      "execution_count": null,
      "outputs": [
        {
          "output_type": "execute_result",
          "data": {
            "text/plain": [
              "0"
            ]
          },
          "metadata": {},
          "execution_count": 140
        }
      ]
    },
    {
      "cell_type": "code",
      "source": [
        "next(range_g)"
      ],
      "metadata": {
        "colab": {
          "base_uri": "https://localhost:8080/"
        },
        "id": "oRUubLRBOSJG",
        "outputId": "c7328286-6fc7-46a9-9da8-b3316348593e"
      },
      "execution_count": null,
      "outputs": [
        {
          "output_type": "execute_result",
          "data": {
            "text/plain": [
              "1"
            ]
          },
          "metadata": {},
          "execution_count": 141
        }
      ]
    },
    {
      "cell_type": "code",
      "source": [
        "next(range_g)"
      ],
      "metadata": {
        "colab": {
          "base_uri": "https://localhost:8080/"
        },
        "id": "h_5Urlf3OTtG",
        "outputId": "0def0832-0e04-404c-f408-96ca71c9d547"
      },
      "execution_count": null,
      "outputs": [
        {
          "output_type": "execute_result",
          "data": {
            "text/plain": [
              "2"
            ]
          },
          "metadata": {},
          "execution_count": 142
        }
      ]
    },
    {
      "cell_type": "code",
      "source": [
        "next(range_g)"
      ],
      "metadata": {
        "colab": {
          "base_uri": "https://localhost:8080/"
        },
        "id": "laKC0RNbOUeV",
        "outputId": "ff32ba6f-cae5-4dab-9085-a30527925ad5"
      },
      "execution_count": null,
      "outputs": [
        {
          "output_type": "execute_result",
          "data": {
            "text/plain": [
              "3"
            ]
          },
          "metadata": {},
          "execution_count": 143
        }
      ]
    },
    {
      "cell_type": "code",
      "source": [
        "next(range_g)"
      ],
      "metadata": {
        "colab": {
          "base_uri": "https://localhost:8080/",
          "height": 144
        },
        "id": "X5rIIZ-hOU6W",
        "outputId": "2bc38c7f-65ee-43f4-aec5-07f6bac9f207"
      },
      "execution_count": null,
      "outputs": [
        {
          "output_type": "error",
          "ename": "StopIteration",
          "evalue": "",
          "traceback": [
            "\u001b[0;31m---------------------------------------------------------------------------\u001b[0m",
            "\u001b[0;31mStopIteration\u001b[0m                             Traceback (most recent call last)",
            "\u001b[0;32m<ipython-input-144-bd8f681bc905>\u001b[0m in \u001b[0;36m<cell line: 0>\u001b[0;34m()\u001b[0m\n\u001b[0;32m----> 1\u001b[0;31m \u001b[0mnext\u001b[0m\u001b[0;34m(\u001b[0m\u001b[0mrange_g\u001b[0m\u001b[0;34m)\u001b[0m\u001b[0;34m\u001b[0m\u001b[0;34m\u001b[0m\u001b[0m\n\u001b[0m",
            "\u001b[0;31mStopIteration\u001b[0m: "
          ]
        }
      ]
    },
    {
      "cell_type": "code",
      "source": [
        "range_g=range_generator(3)\n",
        "for i in range_g:\n",
        "  print(i)"
      ],
      "metadata": {
        "colab": {
          "base_uri": "https://localhost:8080/"
        },
        "id": "zqFF6gFIOV2j",
        "outputId": "ad3db08d-06c4-4522-8923-18ec232f183e"
      },
      "execution_count": null,
      "outputs": [
        {
          "output_type": "stream",
          "name": "stdout",
          "text": [
            "0\n",
            "1\n",
            "2\n",
            "3\n"
          ]
        }
      ]
    },
    {
      "cell_type": "code",
      "source": [
        "two_generator =(n*n for n in range(4))"
      ],
      "metadata": {
        "id": "MLvRswGUPA-U"
      },
      "execution_count": null,
      "outputs": []
    },
    {
      "cell_type": "code",
      "source": [
        "for i in two_generator:\n",
        "  print(i)"
      ],
      "metadata": {
        "colab": {
          "base_uri": "https://localhost:8080/"
        },
        "id": "dso_1V3SPnWa",
        "outputId": "a5867af8-148b-49d3-d148-8b7a7931d913"
      },
      "execution_count": null,
      "outputs": [
        {
          "output_type": "stream",
          "name": "stdout",
          "text": [
            "0\n",
            "1\n",
            "4\n",
            "9\n"
          ]
        }
      ]
    },
    {
      "cell_type": "code",
      "source": [
        "import random"
      ],
      "metadata": {
        "id": "-OI1Sjh7Pq7a"
      },
      "execution_count": null,
      "outputs": []
    },
    {
      "cell_type": "code",
      "source": [
        "random.random()"
      ],
      "metadata": {
        "colab": {
          "base_uri": "https://localhost:8080/"
        },
        "id": "nkMs26rhQjkb",
        "outputId": "788af97f-dd9b-408a-b244-31b9ba5f149b"
      },
      "execution_count": null,
      "outputs": [
        {
          "output_type": "execute_result",
          "data": {
            "text/plain": [
              "0.34550908724981844"
            ]
          },
          "metadata": {},
          "execution_count": 149
        }
      ]
    },
    {
      "cell_type": "code",
      "source": [
        "random.randint(1,5)"
      ],
      "metadata": {
        "colab": {
          "base_uri": "https://localhost:8080/"
        },
        "id": "X4fkfVJ_QlpS",
        "outputId": "abcd44b1-b5d1-474c-ebc3-2dadefaa1eaf"
      },
      "execution_count": null,
      "outputs": [
        {
          "output_type": "execute_result",
          "data": {
            "text/plain": [
              "1"
            ]
          },
          "metadata": {},
          "execution_count": 154
        }
      ]
    },
    {
      "cell_type": "code",
      "source": [
        "help(random.randint)"
      ],
      "metadata": {
        "colab": {
          "base_uri": "https://localhost:8080/"
        },
        "id": "Al-GkgbSQoIH",
        "outputId": "bd8e604b-96b1-4c41-eceb-e83d219fc168"
      },
      "execution_count": null,
      "outputs": [
        {
          "output_type": "stream",
          "name": "stdout",
          "text": [
            "Help on method randint in module random:\n",
            "\n",
            "randint(a, b) method of random.Random instance\n",
            "    Return random integer in range [a, b], including both end points.\n",
            "\n"
          ]
        }
      ]
    },
    {
      "cell_type": "code",
      "source": [
        "class Account:\n",
        "  def __init__(self,accountId,customerName):\n",
        "    self.accountId=accountId\n",
        "    self.customerName=customerName\n",
        "  def __str__(self):\n",
        "    return \"Account ID {} CustomerName {}\".format(self.accountId,self.customerName)"
      ],
      "metadata": {
        "id": "rPMPQjgKUrs0"
      },
      "execution_count": null,
      "outputs": []
    },
    {
      "cell_type": "code",
      "source": [
        "class SavingAccount(Account):\n",
        "  def __init__(self,accountId,customerName,interestRate):\n",
        "    super().__init__(accountId,customerName)\n",
        "    self.interestRate=interestRate\n",
        "  def __str__(self):\n",
        "    return super().__str__()+ \" Interest Rate {}\".format(self.interestRate)"
      ],
      "metadata": {
        "id": "znUk1EnzVEHn"
      },
      "execution_count": null,
      "outputs": []
    },
    {
      "cell_type": "code",
      "source": [
        "class CurrentAccount(Account):\n",
        "  def __init__(self,accountId,customerName,balance):\n",
        "    super().__init__(accountId,customerName)\n",
        "    self.balance=balance\n",
        "  def __str__(self):\n",
        "    return super().__str__()+ \" Balance {}\".format(self.balance)"
      ],
      "metadata": {
        "id": "oQtA7a87VNAg"
      },
      "execution_count": null,
      "outputs": []
    },
    {
      "cell_type": "code",
      "source": [
        "snakesAndLadder = {\n",
        "    19: 3,\n",
        "    23: 16,\n",
        "    25: 20,\n",
        "    35: 28,\n",
        "     6: 18,\n",
        "    15: 27,\n",
        "    7: 19\n",
        "}\n"
      ],
      "metadata": {
        "id": "BxgTbvacVX-d"
      },
      "execution_count": null,
      "outputs": []
    },
    {
      "cell_type": "code",
      "source": [
        "import random\n",
        "def play(score,endpoint=36):\n",
        "  while score < 36:\n",
        "    diceValue = random.randint(1,6)\n",
        "    tempScore = score + diceValue\n",
        "    if tempScore in snakesAndLadder.keys():\n",
        "      score = snakesAndLadder[tempScore]\n",
        "      if score > tempScore:\n",
        "        print(\"Ladder\")\n",
        "      else:\n",
        "        print(\"Snake\")\n",
        "\n",
        "    elif tempScore > 36:\n",
        "      score = score\n",
        "    else:\n",
        "      score = tempScore\n",
        "    yield score\n"
      ],
      "metadata": {
        "id": "WMN9ah1PeQSb"
      },
      "execution_count": null,
      "outputs": []
    },
    {
      "cell_type": "code",
      "source": [],
      "metadata": {
        "id": "k0Btg8Jkhl8-"
      },
      "execution_count": null,
      "outputs": []
    },
    {
      "cell_type": "code",
      "source": [
        "for score in play(0):\n",
        "  print(score)"
      ],
      "metadata": {
        "colab": {
          "base_uri": "https://localhost:8080/"
        },
        "id": "HUISzo2Ke113",
        "outputId": "83c2d7f6-23ff-4d26-b7df-803a4c6f4e6a"
      },
      "execution_count": null,
      "outputs": [
        {
          "output_type": "stream",
          "name": "stdout",
          "text": [
            "5\n",
            "8\n",
            "11\n",
            "17\n",
            "20\n",
            "Snake\n",
            "16\n",
            "Snake\n",
            "3\n",
            "4\n",
            "5\n",
            "10\n",
            "12\n",
            "14\n",
            "Snake\n",
            "3\n",
            "Ladder\n",
            "18\n",
            "Snake\n",
            "16\n",
            "21\n",
            "22\n",
            "27\n",
            "30\n",
            "31\n",
            "33\n",
            "33\n",
            "33\n",
            "33\n",
            "Snake\n",
            "28\n",
            "31\n",
            "36\n"
          ]
        }
      ]
    },
    {
      "cell_type": "code",
      "source": [
        "class Position:\n",
        "  def __init__(self,value,type):\n",
        "    self.value=value\n",
        "class Snake(Position):\n",
        "  def __init__(self,start,end):\n",
        "    super().__init__(start,\"snake\")\n",
        "    self.end=end\n",
        "class Ladder(Position):\n",
        "  def __init__(self,start,end):\n",
        "    super().__init__(start,\"ladder\")\n",
        "    self.end=end"
      ],
      "metadata": {
        "id": "ckvkb3yke9lU"
      },
      "execution_count": null,
      "outputs": []
    },
    {
      "cell_type": "code",
      "source": [
        "\n",
        "snakesAndLadder = {\n",
        "    19: Snake(19,3),\n",
        "    23: Snake(23,16),\n",
        "    25: Snake(15,20),\n",
        "    35: Snake(35,28),\n",
        "     6: Ladder(6,18),\n",
        "    15: Ladder(15,27),\n",
        "    7: Ladder(7,19)\n",
        "}\n",
        "import random\n",
        "def play(score,endpoint=36):\n",
        "  while score < 36:\n",
        "    diceValue = random.randint(1,6)\n",
        "    tempScore = score + diceValue\n",
        "    if tempScore in snakesAndLadder.keys():\n",
        "      position = snakesAndLadder[tempScore]\n",
        "      if position.type == \"snake\":\n",
        "        score = position.end\n",
        "        print(\"Snake\")\n",
        "      else:\n",
        "        score = position.end\n",
        "        print(\"Ladder\")\n",
        "\n",
        "\n",
        "    elif tempScore > 36:\n",
        "      score = score\n",
        "    else:\n",
        "      score = tempScore\n",
        "    yield score\n"
      ],
      "metadata": {
        "id": "ER5frKRZhnPo"
      },
      "execution_count": null,
      "outputs": []
    }
  ]
}